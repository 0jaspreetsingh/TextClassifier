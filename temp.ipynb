{
 "cells": [
  {
   "cell_type": "code",
   "execution_count": 1,
   "metadata": {},
   "outputs": [
    {
     "name": "stderr",
     "output_type": "stream",
     "text": [
      "/home/jaspreet/anaconda3/envs/pytorch/lib/python3.9/site-packages/tqdm/auto.py:22: TqdmWarning: IProgress not found. Please update jupyter and ipywidgets. See https://ipywidgets.readthedocs.io/en/stable/user_install.html\n",
      "  from .autonotebook import tqdm as notebook_tqdm\n"
     ]
    },
    {
     "name": "stdout",
     "output_type": "stream",
     "text": [
      "(7, \"From: lerxst@wam.umd.edu (where's my thing)\\nSubject: WHAT car is this!?\\nNntp-Posting-Host: rac3.wam.umd.edu\\nOrganization: University of Maryland, College Park\\nLines: 15\\n\\n I was wondering if anyone out there could enlighten me on this car I saw\\nthe other day. It was a 2-door sports car, looked to be from the late 60s/\\nearly 70s. It was called a Bricklin. The doors were really small. In addition,\\nthe front bumper was separate from the rest of the body. This is \\nall I know. If anyone can tellme a model name, engine specs, years\\nof production, where this car is made, history, or whatever info you\\nhave on this funky looking car, please e-mail.\\n\\nThanks,\\n- IL\\n   ---- brought to you by your neighborhood Lerxst ----\\n\\n\\n\\n\\n\")\n"
     ]
    }
   ],
   "source": [
    "from torchtext.data.utils import get_tokenizer\n",
    "from torchtext.vocab import build_vocab_from_iterator\n",
    "from utils.utils import getDevice\n",
    "from datasets.newsGroupDataset import NewsGroupDataset\n",
    "import numpy as np\n",
    "from tqdm import tqdm\n",
    "import spacy\n",
    "import string\n",
    "import re\n",
    "import torch\n",
    "from torch.utils.data import DataLoader\n",
    "from model.textClassificationModel import TextClassificationModel\n",
    "import time\n",
    "from torch.utils.data.dataset import random_split\n",
    "from torchtext.data.functional import to_map_style_dataset\n",
    "from torch import nn\n",
    "\n"
   ]
  },
  {
   "cell_type": "code",
   "execution_count": 2,
   "metadata": {},
   "outputs": [
    {
     "name": "stdout",
     "output_type": "stream",
     "text": [
      "{'our', 'then', 'throughout', 'so', 'six', 'latter', 'one', 'name', 'four', 'every', 'further', 'off', 'say', 'without', 'other', 'sixty', 'sometimes', 'elsewhere', 'ever', 'thereby', 'will', 'up', 'nowhere', 'but', 'seem', 'thru', 'can', 'everything', 'well', 'are', 'what', 'empty', 'put', 'each', 'move', 'used', 'when', 'also', '’ll', 'due', 'of', 'being', 'whereby', 'was', 'nor', 'once', 'become', 'whereupon', 'ourselves', 'does', 'why', 'hereupon', 'since', 'moreover', 'neither', 'more', '‘m', 'herself', '’re', 'an', 'yourselves', 'done', 'except', 'someone', 'yours', 'otherwise', \"'d\", 'very', 'own', 'that', 'here', 'around', 'mine', 'already', 'eight', 'their', 'all', 'amongst', 'she', 'were', 'above', 'anyone', 'fifty', 'seeming', 'take', 'thus', 'whereas', 'regarding', 'while', 'meanwhile', 'within', 'behind', 'i', 'about', 'still', 'something', 'again', 'as', 'how', 'among', 'during', 'hers', 'would', 'twelve', 'n‘t', 'toward', 'whoever', 'for', 'whereafter', 'noone', 'her', 'no', 'herein', 're', 'least', 'few', 'hereby', 'anyway', \"n't\", 'a', 'somewhere', '’s', 'under', 'against', 'anyhow', 'ca', 'show', '‘ll', 'yet', 'wherever', 'just', 'alone', 'from', 'those', 'everyone', 'his', 'using', \"'ll\", '‘d', 'often', 'others', 'him', 'its', 'latterly', 'amount', 'where', 'thereupon', 'and', 'might', 'below', 'ours', 'last', 'should', 'nobody', 'any', 'be', 'make', 'or', 'per', 'beyond', 'always', 'after', 'if', 'three', 'which', 'eleven', 'out', 'on', 'us', 'less', \"'s\", 'please', 'through', 'ten', 'although', 'whom', 'the', 'me', 'not', 'therefore', 'everywhere', 'with', 'became', 'part', 'seems', 'via', 'first', 'mostly', 'is', 'various', 'perhaps', 'becomes', 'full', 'third', 'must', 'them', 'beforehand', 'indeed', 'some', 'wherein', 'formerly', 'onto', 'keep', 'none', 'you', 'top', 'go', 'therein', 'back', 'besides', 'almost', 'in', 'n’t', 'nothing', '‘re', 'did', \"'ve\", 'at', 'your', 'really', 'whole', 'until', 'between', 'whatever', 'made', 'before', 'themselves', 'than', 'over', 'upon', 'several', 'he', 'side', 'much', 'either', 'seemed', 'have', 'afterwards', 'there', 'whether', 'else', 'this', 'another', '‘s', 'sometime', 'because', 'hence', '’m', 'call', 'across', 'unless', 'too', 'former', 'my', 'has', 'cannot', 'serious', 'see', 'itself', 'yourself', 'hereafter', 'had', 'been', 'to', 'two', 'though', 'namely', 'am', 'hundred', 'down', 'by', 'such', 'many', 'enough', 'they', 'himself', 'even', 'bottom', 'front', 'who', 'however', '’d', 'rather', 'get', 'along', 'it', 'myself', 'thereafter', \"'re\", 'whose', 'into', 'next', 'both', 'only', 'now', 'whence', \"'m\", 'whenever', 'same', 'anywhere', 'nevertheless', 'never', 'we', 'thence', 'doing', 'quite', 'forty', 'beside', 'fifteen', '’ve', 'together', 'give', 'could', 'may', 'somehow', '‘ve', 'most', 'twenty', 'nine', 'becoming', 'these', 'five', 'whither', 'towards', 'anything', 'do'}\n",
      "326\n"
     ]
    }
   ],
   "source": [
    "en = spacy.load('en_core_web_trf')\n",
    "\n",
    "stopwords = en.Defaults.stop_words\n",
    "\n",
    "print(stopwords)\n",
    "print(len(stopwords))"
   ]
  },
  {
   "cell_type": "code",
   "execution_count": 3,
   "metadata": {},
   "outputs": [
    {
     "name": "stderr",
     "output_type": "stream",
     "text": [
      "100%|██████████| 11314/11314 [00:24<00:00, 457.01it/s]\n"
     ]
    },
    {
     "name": "stdout",
     "output_type": "stream",
     "text": [
      "0\n"
     ]
    }
   ],
   "source": [
    "\n",
    "\n",
    "\n",
    "\n",
    "device = getDevice()\n",
    "\n",
    "data_iter = NewsGroupDataset(subset='train')\n",
    "# print(data_iter[0])\n",
    "\n",
    "#tokenization\n",
    "\n",
    "def tokenizer(text):\n",
    "    text = re.sub(r\"[^\\x00-\\x7F]+\", \" \", text)\n",
    "    regex = re.compile('[' + re.escape(string.punctuation) + '0-9\\\\r\\\\t\\\\n]') # remove punctuation and numbers\n",
    "    nopunct = regex.sub(\" \", text.lower())\n",
    "    tokens= [token.text for token in en.tokenizer(nopunct)]\n",
    "    return [x for x in tokens if x not in stopwords]\n",
    "\n",
    "\n",
    "def yield_tokens(data_iter):\n",
    "    for _, text in tqdm(data_iter):\n",
    "        yield tokenizer(text)\n",
    "\n",
    "vocab = build_vocab_from_iterator(yield_tokens(data_iter), specials=[\"<unk>\"])\n",
    "vocab.set_default_index(vocab[\"<unk>\"])\n",
    "\n",
    "print(vocab.__getitem__('i'.lower()))"
   ]
  },
  {
   "cell_type": "code",
   "execution_count": 4,
   "metadata": {},
   "outputs": [
    {
     "name": "stdout",
     "output_type": "stream",
     "text": [
      "[4543]\n"
     ]
    }
   ],
   "source": [
    "text_pipeline = lambda x: vocab(tokenizer(x))\n",
    "\n",
    "print(text_pipeline(\"enhanced\"))"
   ]
  },
  {
   "cell_type": "code",
   "execution_count": 5,
   "metadata": {},
   "outputs": [],
   "source": [
    "def collate_batch(batch):\n",
    "    label_list, text_list, offsets = [], [], [0]\n",
    "    for (_label, _text) in batch:\n",
    "         label_list.append(_label)\n",
    "         processed_text = torch.tensor(text_pipeline(_text), dtype=torch.int64)\n",
    "         text_list.append(processed_text)\n",
    "         offsets.append(processed_text.size(0))\n",
    "    label_list = torch.tensor(label_list, dtype=torch.int64)\n",
    "    offsets = torch.tensor(offsets[:-1]).cumsum(dim=0)\n",
    "    text_list = torch.cat(text_list)\n",
    "    return label_list.to(device), text_list.to(device), offsets.to(device)\n",
    "\n",
    "train_iter = NewsGroupDataset(subset='train')\n",
    "dataloader = DataLoader(train_iter, batch_size=8, shuffle=False, collate_fn=collate_batch)\n",
    "\n",
    "# a = 0\n",
    "# for label, text, offset in tqdm(dataloader):\n",
    "#     a = a+1"
   ]
  },
  {
   "cell_type": "code",
   "execution_count": 6,
   "metadata": {},
   "outputs": [
    {
     "name": "stdout",
     "output_type": "stream",
     "text": [
      "89000\n"
     ]
    }
   ],
   "source": [
    "num_class = len(list(train_iter.target_names))\n",
    "vocab_size = len(vocab)\n",
    "emsize = 300\n",
    "model = TextClassificationModel(vocab_size, emsize, num_class).to(device)\n",
    "print(vocab_size)\n",
    "\n",
    "# Hyperparameters\n",
    "EPOCHS = 15 # epoch\n",
    "LR = 5  # learning rate\n",
    "BATCH_SIZE = 32 # batch size for training\n",
    "\n",
    "criterion = torch.nn.CrossEntropyLoss()\n",
    "optimizer = torch.optim.SGD(model.parameters(), lr=LR)"
   ]
  },
  {
   "cell_type": "code",
   "execution_count": 7,
   "metadata": {},
   "outputs": [],
   "source": [
    "\n",
    "def train(dataloader):\n",
    "    model.train()\n",
    "    total_acc, total_count = 0, 0\n",
    "    log_interval = 500\n",
    "    start_time = time.time()\n",
    "\n",
    "    for idx, (label, text, offsets) in enumerate(tqdm(dataloader)):\n",
    "        optimizer.zero_grad()\n",
    "        predicted_label = model(text, offsets)\n",
    "        loss = criterion(predicted_label, label)\n",
    "        loss.backward()\n",
    "        torch.nn.utils.clip_grad_norm_(model.parameters(), 0.1)\n",
    "        optimizer.step()\n",
    "        total_acc += (predicted_label.argmax(1) == label).sum().item()\n",
    "        total_count += label.size(0)\n",
    "        if idx % log_interval == 0 and idx > 0:\n",
    "            elapsed = time.time() - start_time\n",
    "            print('| epoch {:3d} | {:5d}/{:5d} batches '\n",
    "                  '| accuracy {:8.3f}'.format(epoch, idx, len(dataloader),\n",
    "                                              total_acc/total_count))\n",
    "            total_acc, total_count = 0, 0\n",
    "            start_time = time.time()\n",
    "\n",
    "def evaluate(dataloader):\n",
    "    model.eval()\n",
    "    total_acc, total_count = 0, 0\n",
    "\n",
    "    with torch.no_grad():\n",
    "        for idx, (label, text, offsets) in enumerate(tqdm(dataloader)):\n",
    "            predicted_label = model(text, offsets)\n",
    "            loss = criterion(predicted_label, label)\n",
    "            total_acc += (predicted_label.argmax(1) == label).sum().item()\n",
    "            total_count += label.size(0)\n",
    "    return total_acc/total_count"
   ]
  },
  {
   "cell_type": "code",
   "execution_count": 8,
   "metadata": {},
   "outputs": [
    {
     "name": "stderr",
     "output_type": "stream",
     "text": [
      "100%|██████████| 336/336 [00:22<00:00, 14.70it/s]\n",
      "100%|██████████| 18/18 [00:01<00:00, 15.83it/s]\n"
     ]
    },
    {
     "name": "stdout",
     "output_type": "stream",
     "text": [
      "-----------------------------------------------------------\n",
      "| end of epoch   1 | time: 24.00s | valid accuracy    0.401 \n",
      "-----------------------------------------------------------\n"
     ]
    },
    {
     "name": "stderr",
     "output_type": "stream",
     "text": [
      "100%|██████████| 336/336 [00:21<00:00, 15.89it/s]\n",
      "100%|██████████| 18/18 [00:01<00:00, 15.65it/s]\n"
     ]
    },
    {
     "name": "stdout",
     "output_type": "stream",
     "text": [
      "-----------------------------------------------------------\n",
      "| end of epoch   2 | time: 22.30s | valid accuracy    0.468 \n",
      "-----------------------------------------------------------\n"
     ]
    },
    {
     "name": "stderr",
     "output_type": "stream",
     "text": [
      "100%|██████████| 336/336 [00:21<00:00, 15.90it/s]\n",
      "100%|██████████| 18/18 [00:01<00:00, 15.49it/s]\n"
     ]
    },
    {
     "name": "stdout",
     "output_type": "stream",
     "text": [
      "-----------------------------------------------------------\n",
      "| end of epoch   3 | time: 22.30s | valid accuracy    0.712 \n",
      "-----------------------------------------------------------\n"
     ]
    },
    {
     "name": "stderr",
     "output_type": "stream",
     "text": [
      "100%|██████████| 336/336 [00:21<00:00, 15.90it/s]\n",
      "100%|██████████| 18/18 [00:01<00:00, 15.50it/s]\n"
     ]
    },
    {
     "name": "stdout",
     "output_type": "stream",
     "text": [
      "-----------------------------------------------------------\n",
      "| end of epoch   4 | time: 22.30s | valid accuracy    0.763 \n",
      "-----------------------------------------------------------\n"
     ]
    },
    {
     "name": "stderr",
     "output_type": "stream",
     "text": [
      "100%|██████████| 336/336 [00:21<00:00, 15.95it/s]\n",
      "100%|██████████| 18/18 [00:01<00:00, 15.84it/s]\n"
     ]
    },
    {
     "name": "stdout",
     "output_type": "stream",
     "text": [
      "-----------------------------------------------------------\n",
      "| end of epoch   5 | time: 22.21s | valid accuracy    0.786 \n",
      "-----------------------------------------------------------\n"
     ]
    },
    {
     "name": "stderr",
     "output_type": "stream",
     "text": [
      "100%|██████████| 336/336 [00:21<00:00, 15.84it/s]\n",
      "100%|██████████| 18/18 [00:01<00:00, 16.00it/s]\n"
     ]
    },
    {
     "name": "stdout",
     "output_type": "stream",
     "text": [
      "-----------------------------------------------------------\n",
      "| end of epoch   6 | time: 22.34s | valid accuracy    0.813 \n",
      "-----------------------------------------------------------\n"
     ]
    },
    {
     "name": "stderr",
     "output_type": "stream",
     "text": [
      "100%|██████████| 336/336 [00:21<00:00, 15.95it/s]\n",
      "100%|██████████| 18/18 [00:01<00:00, 16.11it/s]\n"
     ]
    },
    {
     "name": "stdout",
     "output_type": "stream",
     "text": [
      "-----------------------------------------------------------\n",
      "| end of epoch   7 | time: 22.18s | valid accuracy    0.820 \n",
      "-----------------------------------------------------------\n"
     ]
    },
    {
     "name": "stderr",
     "output_type": "stream",
     "text": [
      "100%|██████████| 336/336 [00:21<00:00, 15.86it/s]\n",
      "100%|██████████| 18/18 [00:01<00:00, 15.90it/s]\n"
     ]
    },
    {
     "name": "stdout",
     "output_type": "stream",
     "text": [
      "-----------------------------------------------------------\n",
      "| end of epoch   8 | time: 22.33s | valid accuracy    0.855 \n",
      "-----------------------------------------------------------\n"
     ]
    },
    {
     "name": "stderr",
     "output_type": "stream",
     "text": [
      "100%|██████████| 336/336 [00:21<00:00, 15.95it/s]\n",
      "100%|██████████| 18/18 [00:01<00:00, 15.94it/s]\n"
     ]
    },
    {
     "name": "stdout",
     "output_type": "stream",
     "text": [
      "-----------------------------------------------------------\n",
      "| end of epoch   9 | time: 22.20s | valid accuracy    0.857 \n",
      "-----------------------------------------------------------\n"
     ]
    },
    {
     "name": "stderr",
     "output_type": "stream",
     "text": [
      "100%|██████████| 336/336 [00:20<00:00, 16.04it/s]\n",
      "100%|██████████| 18/18 [00:01<00:00, 15.92it/s]\n"
     ]
    },
    {
     "name": "stdout",
     "output_type": "stream",
     "text": [
      "-----------------------------------------------------------\n",
      "| end of epoch  10 | time: 22.08s | valid accuracy    0.848 \n",
      "-----------------------------------------------------------\n"
     ]
    },
    {
     "name": "stderr",
     "output_type": "stream",
     "text": [
      "100%|██████████| 336/336 [00:21<00:00, 15.96it/s]\n",
      "100%|██████████| 18/18 [00:01<00:00, 15.94it/s]\n"
     ]
    },
    {
     "name": "stdout",
     "output_type": "stream",
     "text": [
      "-----------------------------------------------------------\n",
      "| end of epoch  11 | time: 22.19s | valid accuracy    0.882 \n",
      "-----------------------------------------------------------\n"
     ]
    },
    {
     "name": "stderr",
     "output_type": "stream",
     "text": [
      "100%|██████████| 336/336 [00:21<00:00, 15.96it/s]\n",
      "100%|██████████| 18/18 [00:01<00:00, 15.89it/s]\n"
     ]
    },
    {
     "name": "stdout",
     "output_type": "stream",
     "text": [
      "-----------------------------------------------------------\n",
      "| end of epoch  12 | time: 22.19s | valid accuracy    0.880 \n",
      "-----------------------------------------------------------\n"
     ]
    },
    {
     "name": "stderr",
     "output_type": "stream",
     "text": [
      "100%|██████████| 336/336 [00:21<00:00, 15.93it/s]\n",
      "100%|██████████| 18/18 [00:01<00:00, 16.15it/s]\n"
     ]
    },
    {
     "name": "stdout",
     "output_type": "stream",
     "text": [
      "-----------------------------------------------------------\n",
      "| end of epoch  13 | time: 22.21s | valid accuracy    0.882 \n",
      "-----------------------------------------------------------\n"
     ]
    },
    {
     "name": "stderr",
     "output_type": "stream",
     "text": [
      "100%|██████████| 336/336 [00:21<00:00, 15.98it/s]\n",
      "100%|██████████| 18/18 [00:01<00:00, 15.96it/s]\n"
     ]
    },
    {
     "name": "stdout",
     "output_type": "stream",
     "text": [
      "-----------------------------------------------------------\n",
      "| end of epoch  14 | time: 22.16s | valid accuracy    0.883 \n",
      "-----------------------------------------------------------\n"
     ]
    },
    {
     "name": "stderr",
     "output_type": "stream",
     "text": [
      "100%|██████████| 336/336 [00:21<00:00, 15.99it/s]\n",
      "100%|██████████| 18/18 [00:01<00:00, 15.73it/s]"
     ]
    },
    {
     "name": "stdout",
     "output_type": "stream",
     "text": [
      "-----------------------------------------------------------\n",
      "| end of epoch  15 | time: 22.17s | valid accuracy    0.883 \n",
      "-----------------------------------------------------------\n"
     ]
    },
    {
     "name": "stderr",
     "output_type": "stream",
     "text": [
      "\n"
     ]
    }
   ],
   "source": [
    "scheduler = torch.optim.lr_scheduler.StepLR(optimizer, 1.0, gamma=0.1)\n",
    "total_accu = None\n",
    "train_dataset = NewsGroupDataset(subset='train')\n",
    "test_dataset = NewsGroupDataset(subset='test')\n",
    "num_train = int(len(train_dataset) * 0.95)\n",
    "split_train_, split_valid_ = \\\n",
    "    random_split(train_dataset, [num_train, len(train_dataset) - num_train])\n",
    "\n",
    "train_dataloader = DataLoader(split_train_, batch_size=BATCH_SIZE,\n",
    "                              shuffle=True, collate_fn=collate_batch)\n",
    "valid_dataloader = DataLoader(split_valid_, batch_size=BATCH_SIZE,\n",
    "                              shuffle=True, collate_fn=collate_batch)\n",
    "test_dataloader = DataLoader(test_dataset, batch_size=BATCH_SIZE,\n",
    "                             shuffle=True, collate_fn=collate_batch)\n",
    "\n",
    "for epoch in range(1, EPOCHS + 1):\n",
    "    epoch_start_time = time.time()\n",
    "    train(train_dataloader)\n",
    "    accu_val = evaluate(valid_dataloader)\n",
    "    if total_accu is not None and total_accu > accu_val:\n",
    "      scheduler.step()\n",
    "    else:\n",
    "       total_accu = accu_val\n",
    "    print('-' * 59)\n",
    "    print('| end of epoch {:3d} | time: {:5.2f}s | '\n",
    "          'valid accuracy {:8.3f} '.format(epoch,\n",
    "                                           time.time() - epoch_start_time,\n",
    "                                           accu_val))\n",
    "    print('-' * 59)"
   ]
  },
  {
   "cell_type": "code",
   "execution_count": 9,
   "metadata": {},
   "outputs": [
    {
     "name": "stdout",
     "output_type": "stream",
     "text": [
      "Checking the results of test dataset.\n"
     ]
    },
    {
     "name": "stderr",
     "output_type": "stream",
     "text": [
      "100%|██████████| 236/236 [00:14<00:00, 16.45it/s]"
     ]
    },
    {
     "name": "stdout",
     "output_type": "stream",
     "text": [
      "test accuracy    0.790\n"
     ]
    },
    {
     "name": "stderr",
     "output_type": "stream",
     "text": [
      "\n"
     ]
    }
   ],
   "source": [
    "print('Checking the results of test dataset.')\n",
    "accu_test = evaluate(test_dataloader)\n",
    "print('test accuracy {:8.3f}'.format(accu_test))"
   ]
  }
 ],
 "metadata": {
  "kernelspec": {
   "display_name": "Python 3.9.13 ('pytorch')",
   "language": "python",
   "name": "python3"
  },
  "language_info": {
   "codemirror_mode": {
    "name": "ipython",
    "version": 3
   },
   "file_extension": ".py",
   "mimetype": "text/x-python",
   "name": "python",
   "nbconvert_exporter": "python",
   "pygments_lexer": "ipython3",
   "version": "3.9.13"
  },
  "orig_nbformat": 4,
  "vscode": {
   "interpreter": {
    "hash": "ff29ac03daff1520ad4db205576eb60a0bef263ceae411ab8bd5552b57cbc1fd"
   }
  }
 },
 "nbformat": 4,
 "nbformat_minor": 2
}
